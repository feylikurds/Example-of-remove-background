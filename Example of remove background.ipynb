{
 "cells": [
  {
   "cell_type": "code",
   "execution_count": null,
   "id": "ee888072-db18-4e7a-a8f6-3c0970029084",
   "metadata": {},
   "outputs": [],
   "source": [
    "\"\"\"\n",
    "Example of remove background.\n",
    "Copyright (C) 2023 Aryo Pehlewan aryopehlewan@hotmail.com\n",
    "This program is free software: you can redistribute it and/or modify\n",
    "it under the terms of the GNU General Public License as published by\n",
    "the Free Software Foundation, either version 3 of the License, or\n",
    "(at your option) any later version.\n",
    "This program is distributed in the hope that it will be useful,\n",
    "but WITHOUT ANY WARRANTY; without even the implied warranty of\n",
    "MERCHANTABILITY or FITNESS FOR A PARTICULAR PURPOSE.  See the\n",
    "GNU General Public License for more details.\n",
    "You should have received a copy of the GNU General Public License\n",
    "along with this program.  If not, see <http://www.gnu.org/licenses/>.\n",
    "\"\"\""
   ]
  },
  {
   "cell_type": "code",
   "execution_count": 1,
   "id": "48b130f3-ef81-4a28-ab0e-7b6e0dc50f5d",
   "metadata": {
    "tags": []
   },
   "outputs": [],
   "source": [
    "from rembg import remove\n",
    "from PIL import Image"
   ]
  },
  {
   "cell_type": "code",
   "execution_count": 2,
   "id": "e36a3128-ac3b-465a-8dd1-7c25d1cd244d",
   "metadata": {
    "tags": []
   },
   "outputs": [],
   "source": [
    "input_path = \"input.jpg\""
   ]
  },
  {
   "cell_type": "code",
   "execution_count": 3,
   "id": "299a07a7-f172-4480-accc-e9b7a1f97099",
   "metadata": {
    "tags": []
   },
   "outputs": [],
   "source": [
    "output_path = \"output.jpg\""
   ]
  },
  {
   "cell_type": "code",
   "execution_count": 4,
   "id": "880d087c-3b0d-4c28-a9ef-68a1228ac0e0",
   "metadata": {
    "tags": []
   },
   "outputs": [],
   "source": [
    "input = Image.open(input_path)"
   ]
  },
  {
   "cell_type": "code",
   "execution_count": 5,
   "id": "69a77068-24c9-4e0f-add0-f1836093fed1",
   "metadata": {
    "tags": []
   },
   "outputs": [],
   "source": [
    "output = remove(input)"
   ]
  },
  {
   "cell_type": "code",
   "execution_count": null,
   "id": "a8ad31ea-f91d-4b9f-94f6-4a84517c289a",
   "metadata": {
    "tags": []
   },
   "outputs": [],
   "source": [
    "rgb_im = output.convert('RGB')"
   ]
  },
  {
   "cell_type": "code",
   "execution_count": null,
   "id": "e96bb16e-1a77-4611-8efb-ac64421d542b",
   "metadata": {
    "tags": []
   },
   "outputs": [],
   "source": [
    "rgb_im.save(output_path)"
   ]
  }
 ],
 "metadata": {
  "kernelspec": {
   "display_name": "Python 3 (ipykernel)",
   "language": "python",
   "name": "python3"
  },
  "language_info": {
   "codemirror_mode": {
    "name": "ipython",
    "version": 3
   },
   "file_extension": ".py",
   "mimetype": "text/x-python",
   "name": "python",
   "nbconvert_exporter": "python",
   "pygments_lexer": "ipython3",
   "version": "3.10.6"
  }
 },
 "nbformat": 4,
 "nbformat_minor": 5
}
